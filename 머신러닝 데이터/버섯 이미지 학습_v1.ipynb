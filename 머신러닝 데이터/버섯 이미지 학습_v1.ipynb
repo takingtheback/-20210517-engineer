{
 "cells": [
  {
   "cell_type": "code",
   "execution_count": 1,
   "id": "5a205e69",
   "metadata": {},
   "outputs": [],
   "source": [
    "from PIL import Image\n",
    "import matplotlib\n",
    "import matplotlib.pyplot as plt\n",
    "import torch\n",
    "from torch.utils.data import Dataset, DataLoader\n",
    "import numpy as np\n",
    "import torchvision\n",
    "from torchvision import transforms"
   ]
  },
  {
   "cell_type": "markdown",
   "id": "d72ca660",
   "metadata": {},
   "source": [
    "# 211016\n",
    "Russula 92번 이미지 깨져서 삭제  \n",
    "깨진 이미지 있어도 진행하는 방법이 있어서 해보았으나 처리가 안됨 "
   ]
  },
  {
   "cell_type": "code",
   "execution_count": 2,
   "id": "4413f968",
   "metadata": {},
   "outputs": [],
   "source": [
    "def imshow(img):\n",
    "    img = img /2 + 0.5 # unnormalize\n",
    "    np_img = img.numpy()\n",
    "    # plt.imshow(np_img)\n",
    "    plt.imshow(np.transpose(np_img, (1,2,0)))\n",
    "    \n",
    "    print(np_img.shape)\n",
    "    print((np.transpose(np_img,(1,2,0))).shape)"
   ]
  },
  {
   "cell_type": "code",
   "execution_count": 3,
   "id": "b775b9ce",
   "metadata": {
    "scrolled": true
   },
   "outputs": [
    {
     "data": {
      "text/plain": [
       "['Agaricus',\n",
       " 'Amanita',\n",
       " 'Boletus',\n",
       " 'Cortinarius',\n",
       " 'Entoloma',\n",
       " 'Hygrocybe',\n",
       " 'Lactarius',\n",
       " 'Russula',\n",
       " 'Suillus']"
      ]
     },
     "execution_count": 3,
     "metadata": {},
     "output_type": "execute_result"
    }
   ],
   "source": [
    "import os\n",
    "\n",
    "os.listdir('./Mushrooms_images')"
   ]
  },
  {
   "cell_type": "code",
   "execution_count": 4,
   "id": "caf6a3c7",
   "metadata": {},
   "outputs": [],
   "source": [
    "trans = transforms.Compose([transforms.Resize((32,32)),\n",
    "                           transforms.ToTensor(),\n",
    "                           transforms.Normalize((0.5,0.5,0.5),(0.5,0.5,0.5))\n",
    "                           ])\n",
    "\n",
    "trainset = torchvision.datasets.ImageFolder(root = \"./Mushrooms_images\",\n",
    "                                           transform = trans)"
   ]
  },
  {
   "cell_type": "code",
   "execution_count": 5,
   "id": "89bbc248",
   "metadata": {
    "scrolled": true
   },
   "outputs": [
    {
     "data": {
      "text/plain": [
       "6713"
      ]
     },
     "execution_count": 5,
     "metadata": {},
     "output_type": "execute_result"
    }
   ],
   "source": [
    "len(trainset)"
   ]
  },
  {
   "cell_type": "code",
   "execution_count": 6,
   "id": "c6e06535",
   "metadata": {},
   "outputs": [],
   "source": [
    "trainloader = DataLoader(trainset,\n",
    "                        batch_size = 2,\n",
    "                        shuffle = True,\n",
    "                        num_workers = 2)"
   ]
  },
  {
   "cell_type": "code",
   "execution_count": 7,
   "id": "007d7736",
   "metadata": {},
   "outputs": [
    {
     "data": {
      "text/plain": [
       "['Agaricus',\n",
       " 'Amanita',\n",
       " 'Boletus',\n",
       " 'Cortinarius',\n",
       " 'Entoloma',\n",
       " 'Hygrocybe',\n",
       " 'Lactarius',\n",
       " 'Russula',\n",
       " 'Suillus']"
      ]
     },
     "execution_count": 7,
     "metadata": {},
     "output_type": "execute_result"
    }
   ],
   "source": [
    "classes = trainset.classes\n",
    "classes"
   ]
  },
  {
   "cell_type": "code",
   "execution_count": 8,
   "id": "4bc9a685",
   "metadata": {
    "scrolled": true
   },
   "outputs": [
    {
     "name": "stdout",
     "output_type": "stream",
     "text": [
      "tensor([6, 3])\n"
     ]
    }
   ],
   "source": [
    "dataiter = iter(trainloader)\n",
    "images, labels = dataiter.next()\n",
    "print(labels)"
   ]
  },
  {
   "cell_type": "code",
   "execution_count": 9,
   "id": "4892ccae",
   "metadata": {},
   "outputs": [
    {
     "name": "stdout",
     "output_type": "stream",
     "text": [
      "torch.Size([2, 3, 32, 32])\n",
      "(3, 36, 70)\n",
      "(36, 70, 3)\n",
      "torch.Size([2, 3, 32, 32])\n",
      "torch.Size([3, 36, 70])\n",
      "Lactarius Cortinarius \n"
     ]
    },
    {
     "data": {
      "image/png": "[encoded data removed]",
      "text/plain": [
       "<Figure size 432x288 with 1 Axes>"
      ]
     },
     "metadata": {
      "needs_background": "light"
     },
     "output_type": "display_data"
    }
   ],
   "source": [
    "print(images.shape)\n",
    "imshow(torchvision.utils.make_grid(images, nrow=2)) # imshow 함수 호출\n",
    "print(images.shape)\n",
    "print((torchvision.utils.make_grid(images)).shape)\n",
    "print(\"\".join(\"%5s \"%classes[labels[j]] for j in range(2)))"
   ]
  },
  {
   "cell_type": "code",
   "execution_count": 10,
   "id": "6754260a",
   "metadata": {},
   "outputs": [],
   "source": [
    "import torch.nn as nn\n",
    "import torch.nn.functional as F\n",
    "\n",
    "\n",
    "class Net(nn.Module):\n",
    "    def __init__(self):\n",
    "        super().__init__()\n",
    "        self.conv1 = nn.Conv2d(3, 6, 5) # kernel=5, paddig=0. stride=1. 32-5+1=28\n",
    "        self.pool = nn.MaxPool2d(2, 2)  # 14\n",
    "        self.conv2 = nn.Conv2d(6, 16, 5) # kernel=5, paddig=0. stride=1. 14-5+1=10 => max pooling 후 5X5\n",
    "        self.fc1 = nn.Linear(16 * 5 * 5, 120) \n",
    "        self.fc2 = nn.Linear(120, 84)\n",
    "        self.fc3 = nn.Linear(84, 9)\n",
    "\n",
    "    def forward(self, x):\n",
    "        x = self.pool(F.relu(self.conv1(x)))\n",
    "        x = self.pool(F.relu(self.conv2(x)))\n",
    "        x = torch.flatten(x, 1) # 배치를 제외한 모든 차원을 평탄화(flatten)\n",
    "        x = F.relu(self.fc1(x))\n",
    "        x = F.relu(self.fc2(x))\n",
    "        x = self.fc3(x)\n",
    "        return x"
   ]
  },
  {
   "cell_type": "code",
   "execution_count": 11,
   "id": "bc6425c2",
   "metadata": {},
   "outputs": [],
   "source": [
    "import torch.optim as optim\n",
    "\n",
    "net = Net()\n",
    "criterion = nn.CrossEntropyLoss()\n",
    "optimizer = optim.SGD(net.parameters(), lr=0.001, momentum=0.9)"
   ]
  },
  {
   "cell_type": "code",
   "execution_count": 12,
   "id": "f45db7c2",
   "metadata": {
    "scrolled": true
   },
   "outputs": [
    {
     "name": "stdout",
     "output_type": "stream",
     "text": [
      "[1,   200] loss: 2.152\n",
      "[1,   400] loss: 2.058\n",
      "[1,   600] loss: 2.014\n",
      "[1,   800] loss: 2.064\n",
      "[1,  1000] loss: 2.013\n",
      "[1,  1200] loss: 2.026\n",
      "[1,  1400] loss: 2.061\n",
      "[1,  1600] loss: 2.053\n",
      "[1,  1800] loss: 1.986\n",
      "[1,  2000] loss: 1.982\n",
      "[1,  2200] loss: 1.964\n",
      "[1,  2400] loss: 1.913\n",
      "[1,  2600] loss: 1.942\n",
      "[1,  2800] loss: 1.956\n",
      "[1,  3000] loss: 1.962\n",
      "[1,  3200] loss: 1.913\n",
      "[2,   200] loss: 1.922\n",
      "[2,   400] loss: 1.920\n",
      "[2,   600] loss: 1.909\n",
      "[2,   800] loss: 1.848\n",
      "[2,  1000] loss: 1.842\n",
      "[2,  1200] loss: 1.861\n",
      "[2,  1400] loss: 1.860\n",
      "[2,  1600] loss: 1.846\n",
      "[2,  1800] loss: 1.860\n",
      "[2,  2000] loss: 1.890\n",
      "[2,  2200] loss: 1.837\n",
      "[2,  2400] loss: 1.766\n",
      "[2,  2600] loss: 1.885\n",
      "[2,  2800] loss: 1.860\n",
      "[2,  3000] loss: 1.811\n",
      "[2,  3200] loss: 1.873\n",
      "[3,   200] loss: 1.802\n",
      "[3,   400] loss: 1.784\n",
      "[3,   600] loss: 1.735\n",
      "[3,   800] loss: 1.788\n",
      "[3,  1000] loss: 1.748\n",
      "[3,  1200] loss: 1.776\n",
      "[3,  1400] loss: 1.726\n",
      "[3,  1600] loss: 1.807\n",
      "[3,  1800] loss: 1.755\n",
      "[3,  2000] loss: 1.808\n",
      "[3,  2200] loss: 1.852\n",
      "[3,  2400] loss: 1.825\n",
      "[3,  2600] loss: 1.773\n",
      "[3,  2800] loss: 1.784\n",
      "[3,  3000] loss: 1.732\n",
      "[3,  3200] loss: 1.726\n",
      "[4,   200] loss: 1.756\n",
      "[4,   400] loss: 1.788\n",
      "[4,   600] loss: 1.681\n",
      "[4,   800] loss: 1.717\n",
      "[4,  1000] loss: 1.719\n",
      "[4,  1200] loss: 1.713\n",
      "[4,  1400] loss: 1.748\n",
      "[4,  1600] loss: 1.680\n",
      "[4,  1800] loss: 1.676\n",
      "[4,  2000] loss: 1.712\n",
      "[4,  2200] loss: 1.696\n",
      "[4,  2400] loss: 1.711\n",
      "[4,  2600] loss: 1.651\n",
      "[4,  2800] loss: 1.736\n",
      "[4,  3000] loss: 1.746\n",
      "[4,  3200] loss: 1.674\n",
      "[5,   200] loss: 1.591\n",
      "[5,   400] loss: 1.570\n",
      "[5,   600] loss: 1.700\n",
      "[5,   800] loss: 1.669\n",
      "[5,  1000] loss: 1.646\n",
      "[5,  1200] loss: 1.635\n",
      "[5,  1400] loss: 1.602\n",
      "[5,  1600] loss: 1.641\n",
      "[5,  1800] loss: 1.669\n",
      "[5,  2000] loss: 1.714\n",
      "[5,  2200] loss: 1.684\n",
      "[5,  2400] loss: 1.739\n",
      "[5,  2600] loss: 1.718\n",
      "[5,  2800] loss: 1.617\n",
      "[5,  3000] loss: 1.685\n",
      "[5,  3200] loss: 1.589\n",
      "[6,   200] loss: 1.542\n",
      "[6,   400] loss: 1.587\n",
      "[6,   600] loss: 1.666\n",
      "[6,   800] loss: 1.484\n",
      "[6,  1000] loss: 1.579\n",
      "[6,  1200] loss: 1.596\n",
      "[6,  1400] loss: 1.579\n",
      "[6,  1600] loss: 1.548\n",
      "[6,  1800] loss: 1.662\n",
      "[6,  2000] loss: 1.612\n",
      "[6,  2200] loss: 1.558\n",
      "[6,  2400] loss: 1.600\n",
      "[6,  2600] loss: 1.666\n",
      "[6,  2800] loss: 1.614\n",
      "[6,  3000] loss: 1.649\n",
      "[6,  3200] loss: 1.525\n",
      "[7,   200] loss: 1.466\n",
      "[7,   400] loss: 1.469\n",
      "[7,   600] loss: 1.467\n",
      "[7,   800] loss: 1.518\n",
      "[7,  1000] loss: 1.535\n",
      "[7,  1200] loss: 1.541\n",
      "[7,  1400] loss: 1.574\n",
      "[7,  1600] loss: 1.561\n",
      "[7,  1800] loss: 1.519\n",
      "[7,  2000] loss: 1.465\n",
      "[7,  2200] loss: 1.463\n",
      "[7,  2400] loss: 1.431\n",
      "[7,  2600] loss: 1.545\n",
      "[7,  2800] loss: 1.530\n",
      "[7,  3000] loss: 1.638\n",
      "[7,  3200] loss: 1.557\n",
      "[8,   200] loss: 1.322\n",
      "[8,   400] loss: 1.377\n",
      "[8,   600] loss: 1.450\n",
      "[8,   800] loss: 1.479\n",
      "[8,  1000] loss: 1.443\n",
      "[8,  1200] loss: 1.424\n",
      "[8,  1400] loss: 1.515\n",
      "[8,  1600] loss: 1.611\n",
      "[8,  1800] loss: 1.474\n",
      "[8,  2000] loss: 1.391\n",
      "[8,  2200] loss: 1.471\n",
      "[8,  2400] loss: 1.415\n",
      "[8,  2600] loss: 1.416\n",
      "[8,  2800] loss: 1.438\n",
      "[8,  3000] loss: 1.471\n",
      "[8,  3200] loss: 1.474\n",
      "[9,   200] loss: 1.322\n",
      "[9,   400] loss: 1.247\n",
      "[9,   600] loss: 1.238\n",
      "[9,   800] loss: 1.323\n",
      "[9,  1000] loss: 1.324\n",
      "[9,  1200] loss: 1.337\n",
      "[9,  1400] loss: 1.321\n",
      "[9,  1600] loss: 1.359\n",
      "[9,  1800] loss: 1.479\n",
      "[9,  2000] loss: 1.362\n",
      "[9,  2200] loss: 1.436\n",
      "[9,  2400] loss: 1.383\n",
      "[9,  2600] loss: 1.387\n",
      "[9,  2800] loss: 1.439\n",
      "[9,  3000] loss: 1.400\n",
      "[9,  3200] loss: 1.434\n",
      "[10,   200] loss: 1.162\n",
      "[10,   400] loss: 1.173\n",
      "[10,   600] loss: 1.198\n",
      "[10,   800] loss: 1.189\n",
      "[10,  1000] loss: 1.286\n",
      "[10,  1200] loss: 1.287\n",
      "[10,  1400] loss: 1.208\n",
      "[10,  1600] loss: 1.260\n",
      "[10,  1800] loss: 1.215\n",
      "[10,  2000] loss: 1.197\n",
      "[10,  2200] loss: 1.379\n",
      "[10,  2400] loss: 1.339\n",
      "[10,  2600] loss: 1.301\n",
      "[10,  2800] loss: 1.323\n",
      "[10,  3000] loss: 1.413\n",
      "[10,  3200] loss: 1.346\n",
      "Finished Training\n"
     ]
    }
   ],
   "source": [
    "for epoch in range(10):   # 데이터셋을 수차례 반복합니다.\n",
    "\n",
    "    running_loss = 0.0\n",
    "    \n",
    "    for i, data in enumerate(trainloader, 0):\n",
    "        # [inputs, labels]의 목록인 data로부터 입력을 받은 후;\n",
    "        inputs, labels = data\n",
    "        # 변화도(Gradient) 매개변수를 0으로 만들고\n",
    "        optimizer.zero_grad()\n",
    "\n",
    "        # 순전파 + 역전파 + 최적화를 한 후\n",
    "        outputs = net(inputs)\n",
    "        loss = criterion(outputs, labels)\n",
    "        loss.backward()\n",
    "        optimizer.step()\n",
    "\n",
    "        # 통계를 출력합니다.\n",
    "        running_loss += loss.item()\n",
    "        if i % 200 == 199:    \n",
    "            print('[%d, %5d] loss: %.3f' %\n",
    "                      (epoch + 1, i + 1, running_loss / 200))\n",
    "            running_loss = 0.0\n",
    "\n",
    "print('Finished Training')"
   ]
  },
  {
   "cell_type": "code",
   "execution_count": 13,
   "id": "c509dae1",
   "metadata": {},
   "outputs": [
    {
     "name": "stdout",
     "output_type": "stream",
     "text": [
      "(3, 36, 70)\n",
      "(36, 70, 3)\n",
      "GroundTruth:  Boletus Boletus\n"
     ]
    },
    {
     "data": {
      "image/png": "[encoded data removed]",
      "text/plain": [
       "<Figure size 432x288 with 1 Axes>"
      ]
     },
     "metadata": {
      "needs_background": "light"
     },
     "output_type": "display_data"
    }
   ],
   "source": [
    "dataiter = iter(trainloader)\n",
    "images, labels = dataiter.next()\n",
    "#images, labels = dataiter.next()\n",
    "# 이미지를 출력합니다.\n",
    "imshow(torchvision.utils.make_grid(images))\n",
    "print('GroundTruth: ', ' '.join('%5s' % classes[labels[j]] for j in range(2)))"
   ]
  },
  {
   "cell_type": "code",
   "execution_count": 14,
   "id": "74a28b60",
   "metadata": {},
   "outputs": [],
   "source": [
    "outputs = net(images)"
   ]
  },
  {
   "cell_type": "code",
   "execution_count": 15,
   "id": "9f81953d",
   "metadata": {},
   "outputs": [
    {
     "name": "stdout",
     "output_type": "stream",
     "text": [
      "Predicted:  Boletus Boletus\n"
     ]
    }
   ],
   "source": [
    "_, predicted = torch.max(outputs, 1)\n",
    "\n",
    "print('Predicted: ', ' '.join('%5s' % classes[predicted[j]]\n",
    "                              for j in range(2)))"
   ]
  },
  {
   "cell_type": "code",
   "execution_count": 16,
   "id": "a5ea3b0d",
   "metadata": {
    "scrolled": true
   },
   "outputs": [
    {
     "name": "stdout",
     "output_type": "stream",
     "text": [
      "57.379 %\n"
     ]
    }
   ],
   "source": [
    "dataiter = iter(trainloader)\n",
    "correct = 0\n",
    "for i in range(2000):\n",
    "    images, labels = dataiter.next()\n",
    "    outputs = net(images)\n",
    "    _, predicted = torch.max(outputs, 1)\n",
    "    \n",
    "    for j in range(2):\n",
    "        if labels[j] == predicted[j]:\n",
    "            correct += 1\n",
    "\n",
    "print('%.3f' % (correct/(i*2) * 100), '%')            \n",
    "  "
   ]
  },
  {
   "cell_type": "code",
   "execution_count": null,
   "id": "37c9cf21",
   "metadata": {},
   "outputs": [],
   "source": []
  }
 ],
 "metadata": {
  "kernelspec": {
   "display_name": "Python 3 (ipykernel)",
   "language": "python",
   "name": "python3"
  },
  "language_info": {
   "codemirror_mode": {
    "name": "ipython",
    "version": 3
   },
   "file_extension": ".py",
   "mimetype": "text/x-python",
   "name": "python",
   "nbconvert_exporter": "python",
   "pygments_lexer": "ipython3",
   "version": "3.9.5"
  }
 },
 "nbformat": 4,
 "nbformat_minor": 5
}
