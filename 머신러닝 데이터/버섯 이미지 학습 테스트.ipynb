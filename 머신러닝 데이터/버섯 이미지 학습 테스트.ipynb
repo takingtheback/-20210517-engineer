{
 "cells": [
  {
   "cell_type": "code",
   "execution_count": 2,
   "id": "9c588c95",
   "metadata": {},
   "outputs": [],
   "source": [
    "import torch.nn as nn\n",
    "import torch.nn.functional as F\n",
    "from PIL import Image\n",
    "import torch\n",
    "from torch.utils.data import Dataset, DataLoader\n",
    "import numpy as np\n",
    "import torchvision\n",
    "from torchvision import transforms\n",
    "\n",
    "\n",
    "class Net(nn.Module):\n",
    "    def __init__(self):\n",
    "        super().__init__()\n",
    "        self.conv1 = nn.Conv2d(3, 6, 5) # kernel=5, paddig=0. stride=1. 32-5+1=28\n",
    "        self.pool = nn.MaxPool2d(2, 2)  # 14\n",
    "        self.conv2 = nn.Conv2d(6, 16, 5) # kernel=5, paddig=0. stride=1. 14-5+1=10 => max pooling 후 5X5\n",
    "        self.fc1 = nn.Linear(16 * 5 * 5, 120)\n",
    "        # 84를 60으로 변경 테스트\n",
    "        self.fc2 = nn.Linear(120, 20)\n",
    "        self.fc3 = nn.Linear(20, 9)\n",
    "\n",
    "    def forward(self, x):\n",
    "        x = self.pool(F.relu(self.conv1(x)))\n",
    "        x = self.pool(F.relu(self.conv2(x)))\n",
    "        x = torch.flatten(x, 1) # 배치를 제외한 모든 차원을 평탄화(flatten)\n",
    "        x = F.relu(self.fc1(x))\n",
    "        x = F.relu(self.fc2(x))\n",
    "        x = self.fc3(x)\n",
    "        return x"
   ]
  },
  {
   "cell_type": "code",
   "execution_count": 3,
   "id": "76476d6d",
   "metadata": {},
   "outputs": [],
   "source": [
    "net = Net()"
   ]
  },
  {
   "cell_type": "code",
   "execution_count": 4,
   "id": "88cf4fe2",
   "metadata": {},
   "outputs": [],
   "source": [
    "import joblib\n",
    "net = joblib.load('mushroom_test.pkl')"
   ]
  },
  {
   "cell_type": "code",
   "execution_count": 5,
   "id": "f8c3aabe",
   "metadata": {
    "scrolled": true
   },
   "outputs": [
    {
     "name": "stdout",
     "output_type": "stream",
     "text": [
      "0 번째 트레인 값 4787 / 5000 , 95.740 %\n",
      "0 번째 테스트 값 922 / 1000 , 92.200 %\n",
      "1 번째 트레인 값 4862 / 5000 , 97.240 %\n",
      "1 번째 테스트 값 868 / 1000 , 86.800 %\n",
      "2 번째 트레인 값 4697 / 5000 , 93.940 %\n",
      "2 번째 테스트 값 993 / 1000 , 99.300 %\n",
      "3 번째 트레인 값 4709 / 5000 , 94.180 %\n",
      "3 번째 테스트 값 983 / 1000 , 98.300 %\n",
      "4 번째 트레인 값 4706 / 5000 , 94.120 %\n",
      "4 번째 테스트 값 988 / 1000 , 98.800 %\n"
     ]
    }
   ],
   "source": [
    "from sklearn.model_selection import train_test_split\n",
    "from sklearn.model_selection import KFold\n",
    "\n",
    "trans = transforms.Compose([transforms.Resize((32,32)),\n",
    "                           transforms.ToTensor(),\n",
    "                           transforms.Normalize((0.5,0.5,0.5),(0.5,0.5,0.5))\n",
    "                           ])\n",
    "\n",
    "imageData = torchvision.datasets.ImageFolder(root = \"./Mushrooms_images\", transform = trans)\n",
    "\n",
    "classes = imageData.classes\n",
    "classes\n",
    "\n",
    "kfold = KFold(n_splits=5)\n",
    "for idx, (train_index, test_index) in enumerate(kfold.split(imageData)):\n",
    "    \n",
    "    trainset = torch.utils.data.Subset(imageData, train_index)\n",
    "    testset = torch.utils.data.Subset(imageData, test_index)\n",
    "\n",
    "    trainloader = torch.utils.data.DataLoader(trainset, batch_size=50, shuffle=True, num_workers=2)\n",
    "    testloader = torch.utils.data.DataLoader(testset, batch_size=50, shuffle=True, num_workers=2)\n",
    "    \n",
    "    \n",
    "    dataiter = iter(trainloader)\n",
    "    correct = 0\n",
    "    for i in range(100):\n",
    "        images, labels = dataiter.next()\n",
    "        outputs = net(images)\n",
    "        _, predicted = torch.max(outputs, 1)\n",
    "        #print('답: ', labels)\n",
    "        #print('예측 : ', predicted)\n",
    "        for j in range(50):  \n",
    "            if labels[j] == predicted[j]:\n",
    "                correct += 1\n",
    "\n",
    "    print(idx, '번째', '트레인 값', correct, '/', (i+1)*50, ',', '%.3f' % (correct/((i+1)*50) * 100), '%') \n",
    "    \n",
    "    dataiter = iter(testloader)\n",
    "    correct = 0\n",
    "    for i in range(20):\n",
    "        images, labels = dataiter.next()\n",
    "        outputs = net(images)\n",
    "        _, predicted = torch.max(outputs, 1)\n",
    "        #print('답: ', labels)\n",
    "        #print('예측 : ', predicted)\n",
    "        for j in range(50):  \n",
    "            if labels[j] == predicted[j]:\n",
    "                correct += 1\n",
    "\n",
    "    print(idx, '번째','테스트 값', correct, '/', (i+1)*50, ',', '%.3f' % (correct/((i+1)*50) * 100), '%')  "
   ]
  },
  {
   "cell_type": "code",
   "execution_count": 6,
   "id": "02f87987",
   "metadata": {},
   "outputs": [],
   "source": [
    "classes = ['Agaricus',\n",
    " 'Amanita',\n",
    " 'Boletus',\n",
    " 'Cortinarius',\n",
    " 'Entoloma',\n",
    " 'Hygrocybe',\n",
    " 'Lactarius',\n",
    " 'Russula',\n",
    " 'Suillus']"
   ]
  },
  {
   "cell_type": "code",
   "execution_count": 7,
   "id": "6292e374",
   "metadata": {},
   "outputs": [],
   "source": [
    "# state_dict = torch.hub.load_state_dict_from_url\n",
    "# 링크 받아오는거 \n",
    "# 파일 업로드 \n",
    "# 사진 파일을 업로드 -> 테스트 \n",
    "# https://niceman.tistory.com/150\n",
    "testimageData = torchvision.datasets.ImageFolder(root = \"./test_images\", transform = trans)"
   ]
  },
  {
   "cell_type": "code",
   "execution_count": 8,
   "id": "a0673899",
   "metadata": {},
   "outputs": [],
   "source": [
    "testImageloader = DataLoader(testimageData,\n",
    "                        batch_size = 1,\n",
    "                        shuffle = False,\n",
    "                        num_workers = 1)"
   ]
  },
  {
   "cell_type": "code",
   "execution_count": 9,
   "id": "8f3beeb3",
   "metadata": {},
   "outputs": [],
   "source": [
    "dataiter = iter(testImageloader)"
   ]
  },
  {
   "cell_type": "code",
   "execution_count": 10,
   "id": "090035b0",
   "metadata": {},
   "outputs": [
    {
     "name": "stdout",
     "output_type": "stream",
     "text": [
      "Amanita\n",
      "Russula\n"
     ]
    }
   ],
   "source": [
    " for i in range(2):\n",
    "    images, labels = dataiter.next()\n",
    "    outputs = net(images)\n",
    "    _, predicted = torch.max(outputs, 1)\n",
    "    #print(predicted)\n",
    "    print(classes[predicted])"
   ]
  },
  {
   "cell_type": "code",
   "execution_count": null,
   "id": "e840439b",
   "metadata": {},
   "outputs": [],
   "source": []
  }
 ],
 "metadata": {
  "kernelspec": {
   "display_name": "Python 3 (ipykernel)",
   "language": "python",
   "name": "python3"
  },
  "language_info": {
   "codemirror_mode": {
    "name": "ipython",
    "version": 3
   },
   "file_extension": ".py",
   "mimetype": "text/x-python",
   "name": "python",
   "nbconvert_exporter": "python",
   "pygments_lexer": "ipython3",
   "version": "3.9.5"
  }
 },
 "nbformat": 4,
 "nbformat_minor": 5
}
